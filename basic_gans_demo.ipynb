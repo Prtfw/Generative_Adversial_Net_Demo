{
 "cells": [
  {
   "cell_type": "code",
   "execution_count": 1,
   "metadata": {},
   "outputs": [],
   "source": [
    "# imports \n",
    "import tensorflow as tf\n",
    "import numpy as np\n",
    "import matplotlib.pyplot as plt\n",
    "%matplotlib inline \n",
    "# draw plots in notebook not new window"
   ]
  },
  {
   "cell_type": "code",
   "execution_count": 2,
   "metadata": {},
   "outputs": [
    {
     "name": "stderr",
     "output_type": "stream",
     "text": [
      "/Users/mengningshang/Desktop/Dev_Env/carAI/CarND-Alexnet-Feature-Extraction/wcd-ml-b2/lib/python3.6/site-packages/h5py/__init__.py:36: FutureWarning: Conversion of the second argument of issubdtype from `float` to `np.floating` is deprecated. In future, it will be treated as `np.float64 == np.dtype(float).type`.\n",
      "  from ._conv import register_converters as _register_converters\n"
     ]
    },
    {
     "name": "stdout",
     "output_type": "stream",
     "text": [
      "Extracting ./MNIST_DATA/train-images-idx3-ubyte.gz\n",
      "Extracting ./MNIST_DATA/train-labels-idx1-ubyte.gz\n",
      "Extracting ./MNIST_DATA/t10k-images-idx3-ubyte.gz\n",
      "Extracting ./MNIST_DATA/t10k-labels-idx1-ubyte.gz\n"
     ]
    }
   ],
   "source": [
    "# load data\n",
    "from tensorflow.examples.tutorials.mnist import input_data\n",
    "'''\n",
    "switch for Fashion or Digits Data set\n",
    "'''\n",
    "mn = input_data.read_data_sets(\"./MNIST_DATA\",one_hot=True)        \n",
    "# mn = input_data.read_data_sets(\"./FASHION_DATA\",one_hot=True)"
   ]
  },
  {
   "cell_type": "code",
   "execution_count": 3,
   "metadata": {},
   "outputs": [
    {
     "name": "stdout",
     "output_type": "stream",
     "text": [
      "shape of image is:  (784,)\n"
     ]
    },
    {
     "data": {
      "text/plain": [
       "<matplotlib.image.AxesImage at 0x11d9f9a58>"
      ]
     },
     "execution_count": 3,
     "metadata": {},
     "output_type": "execute_result"
    },
    {
     "data": {
      "image/png": "[encoded data removed]",
      "text/plain": [
       "<matplotlib.figure.Figure at 0x111198860>"
      ]
     },
     "metadata": {},
     "output_type": "display_data"
    }
   ],
   "source": [
    "print('shape of image is: ', mn.train.images[0].shape)          # image is a long flat vector\n",
    "plt.imshow(mn.train.images[0].reshape(28,28), cmap=\"Greys\")     # reformat long flat img vector in to 28x28 square img"
   ]
  },
  {
   "cell_type": "code",
   "execution_count": 4,
   "metadata": {},
   "outputs": [],
   "source": [
    "# define generator/faker net with own var_scope\n",
    "def gen(z, reuse=None, extra_layer=0):\n",
    "    '''\n",
    "    input: takes random seed z \n",
    "    outputs: a 784 pixel img vector\n",
    "    '''\n",
    "    with tf.variable_scope('gen', reuse=reuse):\n",
    "        leaky_relu_const = 0.01 # using RELU (sparse) causes instability, use leaky relu\n",
    "        hid1 = tf.layers.dense(inputs=z, units=128)\n",
    "        hid1 = tf.maximum(leaky_relu_const*hid1, hid1)\n",
    "        hid2 = tf.layers.dense(inputs=hid1, units=128)\n",
    "        hid2 = tf.maximum(leaky_relu_const*hid2, hid2)\n",
    "        if extra_layer:\n",
    "            hid3 = tf.layers.dense(inputs=hid2, units=256)\n",
    "            hid3 = tf.maximum(leaky_relu_const*hid3, hid3)\n",
    "            outl = tf.layers.dense(hid3, units=784, activation=tf.nn.tanh)\n",
    "        else:\n",
    "            outl = tf.layers.dense(hid2, units=784, activation=tf.nn.tanh)\n",
    "        return outl"
   ]
  },
  {
   "cell_type": "code",
   "execution_count": 5,
   "metadata": {},
   "outputs": [],
   "source": [
    "# define descriminator/judge net with own var_scope\n",
    "def judge(x, reuse=None, extra_layer=0):\n",
    "    '''\n",
    "    input: a 784 pixel img vector (either generated by the faker or a real example from MNIST)\n",
    "    output: tuple (Boolean (0 or 1) where 1 = image is real (MNIST) and not generated, prediction proability)\n",
    "    '''\n",
    "    with tf.variable_scope('jud', reuse=reuse):\n",
    "        hid1 = tf.layers.dense(inputs=x, units=128)\n",
    "        leaky_relu_const = 0.01 \n",
    "        hid1 = tf.maximum(leaky_relu_const*hid1, hid1)\n",
    "        hid2 = tf.layers.dense(inputs=hid1, units=128)\n",
    "        hid2 = tf.maximum(leaky_relu_const*hid2, hid2)\n",
    "        if extra_layer:\n",
    "            hid3 = tf.layers.dense(inputs=hid2, units=256)\n",
    "            hid3 = tf.maximum(leaky_relu_const*hid3, hid3)\n",
    "            logits = tf.layers.dense(hid3, units=1)\n",
    "        else:\n",
    "            logits = tf.layers.dense(hid2, units=1)\n",
    "        outl = tf.sigmoid(logits)\n",
    "        return outl, logits"
   ]
  },
  {
   "cell_type": "code",
   "execution_count": 6,
   "metadata": {},
   "outputs": [],
   "source": [
    "# define placeholders\n",
    "\n",
    "extra_layer=True # use 1 for fashion\n",
    "\n",
    "real_img = tf.placeholder(tf.float32, shape=[None, 784])\n",
    "z= tf.placeholder(tf.float32, shape=[None, 100])  # random seed for the faker\n",
    "G = gen(z, extra_layer=extra_layer) # initate a faker"
   ]
  },
  {
   "cell_type": "code",
   "execution_count": 7,
   "metadata": {},
   "outputs": [],
   "source": [
    "JoutReal, JlogitsReal = judge(real_img, extra_layer=extra_layer)  # this is a tensorFlow node, this version takes in real MNIST images\n",
    "JoutFake, JlogitsFake = judge(G, reuse=True, extra_layer=extra_layer) # this is a tensorFlow node, this version takes in faked images"
   ]
  },
  {
   "cell_type": "code",
   "execution_count": 8,
   "metadata": {},
   "outputs": [],
   "source": [
    "# losses\n",
    "def lossfunc (logitsin, yin):\n",
    "    '''\n",
    "    for each 0/1 prediction, calculate the error, and return the average for the batch\n",
    "    '''\n",
    "    return tf.reduce_mean(tf.nn.sigmoid_cross_entropy_with_logits(logits=logitsin, labels=yin))"
   ]
  },
  {
   "cell_type": "code",
   "execution_count": 9,
   "metadata": {},
   "outputs": [],
   "source": [
    "# define labels (either 0 or 1 because we know if the image is a fake or real MNIST data)\n",
    "JlossReal = lossfunc(JlogitsReal, tf.ones_like(JlogitsReal)*0.90) \n",
    "'''\n",
    "tf.ones_like(JlogitsReal)*0.9 is applying a smoothing factor to real images (lablel = 1) \n",
    "so the model genearlize better\n",
    "'''\n",
    "JlossFake = lossfunc(JlogitsFake, tf.zeros_like(JlogitsFake))\n",
    "Jloss = JlossReal + JlossFake # overall error for the judge-net\n",
    "\n",
    "'''\n",
    "overall error for the faker net, it doesn't care about loss on real MNIST\n",
    "Is labeled 1 (a lil counter-intuitive) => since if \n",
    "'''\n",
    "Gloss=lossfunc(JlogitsFake, tf.ones_like(JlogitsFake))"
   ]
  },
  {
   "cell_type": "code",
   "execution_count": 10,
   "metadata": {},
   "outputs": [],
   "source": [
    "# define visualizer function\n",
    "\n",
    "skip = 5\n",
    "\n",
    "def visualize_sample(imgarray, pos, greyscale=0):\n",
    "    img = imgarray.reshape(28,28)\n",
    "    fig = plt.figure()\n",
    "    fig.suptitle(\"after {} epochs\".format(pos), fontsize=14, fontweight='bold')\n",
    "    if greyscale == 1:\n",
    "        plt.imshow(img, cmap='Greys')\n",
    "    else: \n",
    "        plt.imshow(img)\n",
    "        "
   ]
  },
  {
   "cell_type": "code",
   "execution_count": null,
   "metadata": {},
   "outputs": [],
   "source": [
    "# define pipeline parameters\n",
    "\n",
    "batchsz=50 # images before we make a update\n",
    "rounds = 256 # times we train over the whole data-set\n",
    "samples = [] # a array to store the random samples at each epoch\n",
    "lr = 0.001 # learning rate\n",
    "\n",
    "# define what to optimize\n",
    "allvars = tf.trainable_variables()\n",
    "jvars = [var for var in allvars if 'jud' in var.name]\n",
    "gvars = [var for var in allvars if 'gen' in var.name]\n",
    "\n",
    "jtrain = tf.train.AdamOptimizer(lr).minimize(Jloss, var_list=jvars) # train judge only\n",
    "gtrain = tf.train.AdamOptimizer(lr).minimize(Gloss, var_list=gvars) # train generator only\n",
    "\n",
    "init = tf.global_variables_initializer()"
   ]
  },
  {
   "cell_type": "code",
   "execution_count": null,
   "metadata": {},
   "outputs": [
    {
     "name": "stdout",
     "output_type": "stream",
     "text": [
      "on epoch 0\n",
      "on epoch 1\n",
      "on epoch 2\n",
      "on epoch 3\n",
      "on epoch 4\n",
      "on epoch 5\n",
      "on epoch 6\n",
      "on epoch 7\n",
      "on epoch 8\n",
      "on epoch 9\n",
      "on epoch 10\n",
      "on epoch 11\n",
      "on epoch 12\n",
      "on epoch 13\n",
      "on epoch 14\n",
      "on epoch 15\n",
      "on epoch 16\n",
      "on epoch 17\n",
      "on epoch 18\n",
      "on epoch 19\n",
      "on epoch 20\n",
      "on epoch 21\n",
      "on epoch 22\n",
      "on epoch 23\n",
      "on epoch 24\n",
      "on epoch 25\n",
      "on epoch 26\n",
      "on epoch 27\n",
      "on epoch 28\n",
      "on epoch 29\n",
      "on epoch 30\n",
      "on epoch 31\n",
      "on epoch 32\n",
      "on epoch 33\n",
      "on epoch 34\n",
      "on epoch 35\n",
      "on epoch 36\n",
      "on epoch 37\n",
      "on epoch 38\n",
      "on epoch 39\n",
      "on epoch 40\n",
      "on epoch 41\n",
      "on epoch 42\n",
      "on epoch 43\n",
      "on epoch 44\n",
      "on epoch 45\n",
      "on epoch 46\n",
      "on epoch 47\n",
      "on epoch 48\n",
      "on epoch 49\n",
      "on epoch 50\n",
      "on epoch 51\n",
      "on epoch 52\n",
      "on epoch 53\n",
      "on epoch 54\n"
     ]
    }
   ],
   "source": [
    "with tf.Session() as sess:\n",
    "    sess.run(init) \n",
    "    for e in range(rounds):\n",
    "        nbatch = mn.train.num_examples // batchsz\n",
    "        # train the network for 1 batch (there are # of Images/Bach_size batches in each epoch)\n",
    "        for i in range(nbatch):\n",
    "            batch = mn.train.next_batch(batchsz) # get the next batch of training data\n",
    "            batchimgs = batch[0].reshape((batchsz, 784))\n",
    "            batchimgs = batchimgs * 2 - 1 # adjust values for tanh activation, batch imgs are pre-normalized\n",
    "            batch_z = np.random.uniform(-1,1,size=(batchsz,100)) # generate random seed batch for faker\n",
    "            sess.run(jtrain, feed_dict={real_img: batchimgs, z: batch_z}) # train one batch on judge\n",
    "            sess.run(gtrain, feed_dict={z:batch_z}) # train one batch on faker\n",
    "        print(\"on epoch {}\".format(e))\n",
    "        samplez = np.random.uniform(-1,1,size=(1,100))  # make random seed vector for sampling\n",
    "        fakeimg = sess.run(gen(z, reuse=True, extra_layer=extra_layer), feed_dict={z: samplez}) # make fake images\n",
    "        samples.extend(fakeimg)"
   ]
  },
  {
   "cell_type": "markdown",
   "metadata": {},
   "source": []
  },
  {
   "cell_type": "code",
   "execution_count": null,
   "metadata": {},
   "outputs": [],
   "source": [
    " '''\n",
    "code to save and load results\n",
    "uncomment to (switch) save the appropriate sample vector file\n",
    "'''\n",
    "'''\n",
    "\n",
    "'''\n",
    "np.save('./samples_250', samples) \n",
    "res = np.load('./samples_250.npy') \n",
    "# # samples_250t_1.npy\n",
    "\n",
    "'''\n",
    "# np.save('./samples_250t_FASHION', samples) \n",
    "'''\n",
    "# res = np.load('./samples_250_FASHION_3.npy') \n",
    "\n",
    "# # samples_250_FASHION_3\n",
    "# # samples_250t_FASHION.npy\n",
    "\n",
    "loaded_samples = res  #samples "
   ]
  },
  {
   "cell_type": "code",
   "execution_count": null,
   "metadata": {},
   "outputs": [],
   "source": [
    "for pos, imgs in enumerate(loaded_samples):\n",
    "    if pos%skip ==0 or pos==250-1 :\n",
    "            visualize_sample(imgs, pos)"
   ]
  },
  {
   "cell_type": "code",
   "execution_count": null,
   "metadata": {},
   "outputs": [],
   "source": [
    "len(samples)"
   ]
  },
  {
   "cell_type": "code",
   "execution_count": null,
   "metadata": {},
   "outputs": [],
   "source": []
  }
 ],
 "metadata": {
  "kernelspec": {
   "display_name": "Python 3.5 (wcd-ml)\n",
   "language": "python",
   "name": "wcd-ml-b2"
  },
  "language_info": {
   "codemirror_mode": {
    "name": "ipython",
    "version": 3
   },
   "file_extension": ".py",
   "mimetype": "text/x-python",
   "name": "python",
   "nbconvert_exporter": "python",
   "pygments_lexer": "ipython3",
   "version": "3.6.4"
  }
 },
 "nbformat": 4,
 "nbformat_minor": 2
}
